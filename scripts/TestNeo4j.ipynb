{
 "cells": [
  {
   "cell_type": "code",
   "execution_count": 24,
   "metadata": {},
   "outputs": [
    {
     "name": "stderr",
     "output_type": "stream",
     "text": [
      "INFO:root:Query: MATCH (p:protein {name: 'wls', txid: 'txid7227'})-[:ProGo]-(g:go_term {id: 'GO:0030177'}) WITH p, g MATCH (p)-[:ProGo]-(g)-[:GoGo*]->(g2) RETURN count(g2), Expected: 63, Actual: 63, Test Passed: True\n"
     ]
    },
    {
     "name": "stderr",
     "output_type": "stream",
     "text": [
      "INFO:root:Query: MATCH (p:protein {name: 'shf', txid: 'txid7227'})-[r:ProGo]-(g:go_term {id: 'GO:0016055'}) RETURN count(r), Expected: 0, Actual: 0, Test Passed: True\n",
      "INFO:root:Query: MATCH (g:go_term {id: 'GO:0009987'}) RETURN g.never_annotate, Expected: true, Actual: true, Test Passed: True\n",
      "INFO:root:Query: MATCH (p:protein {name: 'dsh', txid: 'txid7227'})-[r:ProGo]-(g:go_term {id: 'GO:0016055'}) RETURN r.relationship, Expected: involved_in, Actual: involved_in, Test Passed: True\n"
     ]
    },
    {
     "name": "stdout",
     "output_type": "stream",
     "text": [
      "All tests passed: True\n"
     ]
    }
   ],
   "source": [
    "from neo4j import GraphDatabase\n",
    "import logging\n",
    "\n",
    "# Configure logging\n",
    "logging.basicConfig(level=logging.INFO)\n",
    "\n",
    "# Define Neo4j connection details\n",
    "uri = \"neo4j://localhost:7687\"  # Adjust the host and port as needed\n",
    "\n",
    "# Define your Cypher queries\n",
    "cypher_queries = [\n",
    "    # Test if wls was fully annotated to parents in hierarchy (should have 63 results from this query)\n",
    "    (\"MATCH (p:protein {name: 'wls', txid: 'txid7227'})-[:ProGo]-(g:go_term {id: 'GO:0030177'}) WITH p, g MATCH (p)-[:ProGo]-(g)-[:GoGo*]->(g2) RETURN count(g2)\", 63),\n",
    "    # Test that GO terms that are too specific are not annotated\n",
    "    (\"MATCH (p:protein {name: 'shf', txid: 'txid7227'})-[r:ProGo]-(g:go_term {id: 'GO:0016055'}) RETURN count(r)\", 0),\n",
    "    # Test that GO terms that have never_annotate are marked as never_annotate\n",
    "    (\"MATCH (g:go_term {id: 'GO:0009987'}) RETURN g.never_annotate\", \"true\"),\n",
    "    # Test that we did not overwrite direct annotations when propogating annotations\n",
    "    (\"MATCH (p:protein {name: 'dsh', txid: 'txid7227'})-[r:ProGo]-(g:go_term {id: 'GO:0016055'}) RETURN r.relationship\", \"involved_in\")\n",
    "]\n",
    "\n",
    "# Function to run Cypher queries\n",
    "def run_queries(driver, queries):\n",
    "    overall_test_result = True  # Initialize overall test result\n",
    "    with driver.session() as session:\n",
    "        for query, expected_result in queries:\n",
    "            try:\n",
    "                result = session.run(query)\n",
    "                record = result.single()\n",
    "                actual_result = record[0] if record else None  # Extract result from record\n",
    "                test_passed = (actual_result == expected_result)\n",
    "                logging.info(f\"Query: {query}, Expected: {expected_result}, Actual: {actual_result}, Test Passed: {test_passed}\")\n",
    "                if not test_passed:\n",
    "                    overall_test_result = False\n",
    "            except Exception as e:\n",
    "                logging.error(f\"Error executing query: {query}, Error: {str(e)}\")\n",
    "                test_passed = False\n",
    "                overall_test_result = False\n",
    "                continue  # Continue to the next query even if an error occurs\n",
    "    return overall_test_result\n",
    "\n",
    "# Connect to Neo4j\n",
    "driver = GraphDatabase.driver(uri)\n",
    "\n",
    "try:\n",
    "    # Run Cypher queries and check results\n",
    "    test_result = run_queries(driver, cypher_queries)\n",
    "    print(\"All tests passed:\", test_result)\n",
    "finally:\n",
    "    # Close the driver when done\n",
    "    driver.close()"
   ]
  }
 ],
 "metadata": {
  "kernelspec": {
   "display_name": "base",
   "language": "python",
   "name": "python3"
  },
  "language_info": {
   "codemirror_mode": {
    "name": "ipython",
    "version": 3
   },
   "file_extension": ".py",
   "mimetype": "text/x-python",
   "name": "python",
   "nbconvert_exporter": "python",
   "pygments_lexer": "ipython3",
   "version": "3.9.6"
  }
 },
 "nbformat": 4,
 "nbformat_minor": 2
}
